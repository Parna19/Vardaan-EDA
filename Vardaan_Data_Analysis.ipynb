{
  "nbformat": 4,
  "nbformat_minor": 0,
  "metadata": {
    "colab": {
      "provenance": [],
      "include_colab_link": true
    },
    "kernelspec": {
      "name": "python3",
      "display_name": "Python 3"
    },
    "language_info": {
      "name": "python"
    }
  },
  "cells": [
    {
      "cell_type": "markdown",
      "metadata": {
        "id": "view-in-github",
        "colab_type": "text"
      },
      "source": [
        "<a href=\"https://colab.research.google.com/github/Parna19/Vardaan-EDA/blob/main/Vardaan_Data_Analysis.ipynb\" target=\"_parent\"><img src=\"https://colab.research.google.com/assets/colab-badge.svg\" alt=\"Open In Colab\"/></a>"
      ]
    },
    {
      "cell_type": "code",
      "execution_count": null,
      "metadata": {
        "colab": {
          "base_uri": "https://localhost:8080/",
          "height": 73
        },
        "id": "dmtjKumaFs7a",
        "outputId": "4c3d3364-c2a3-4be0-9ece-78060486a18a"
      },
      "outputs": [
        {
          "output_type": "display_data",
          "data": {
            "text/plain": [
              "<IPython.core.display.HTML object>"
            ],
            "text/html": [
              "\n",
              "     <input type=\"file\" id=\"files-63d54efc-9c17-4b44-b7a7-dc630ab5b146\" name=\"files[]\" multiple disabled\n",
              "        style=\"border:none\" />\n",
              "     <output id=\"result-63d54efc-9c17-4b44-b7a7-dc630ab5b146\">\n",
              "      Upload widget is only available when the cell has been executed in the\n",
              "      current browser session. Please rerun this cell to enable.\n",
              "      </output>\n",
              "      <script>// Copyright 2017 Google LLC\n",
              "//\n",
              "// Licensed under the Apache License, Version 2.0 (the \"License\");\n",
              "// you may not use this file except in compliance with the License.\n",
              "// You may obtain a copy of the License at\n",
              "//\n",
              "//      http://www.apache.org/licenses/LICENSE-2.0\n",
              "//\n",
              "// Unless required by applicable law or agreed to in writing, software\n",
              "// distributed under the License is distributed on an \"AS IS\" BASIS,\n",
              "// WITHOUT WARRANTIES OR CONDITIONS OF ANY KIND, either express or implied.\n",
              "// See the License for the specific language governing permissions and\n",
              "// limitations under the License.\n",
              "\n",
              "/**\n",
              " * @fileoverview Helpers for google.colab Python module.\n",
              " */\n",
              "(function(scope) {\n",
              "function span(text, styleAttributes = {}) {\n",
              "  const element = document.createElement('span');\n",
              "  element.textContent = text;\n",
              "  for (const key of Object.keys(styleAttributes)) {\n",
              "    element.style[key] = styleAttributes[key];\n",
              "  }\n",
              "  return element;\n",
              "}\n",
              "\n",
              "// Max number of bytes which will be uploaded at a time.\n",
              "const MAX_PAYLOAD_SIZE = 100 * 1024;\n",
              "\n",
              "function _uploadFiles(inputId, outputId) {\n",
              "  const steps = uploadFilesStep(inputId, outputId);\n",
              "  const outputElement = document.getElementById(outputId);\n",
              "  // Cache steps on the outputElement to make it available for the next call\n",
              "  // to uploadFilesContinue from Python.\n",
              "  outputElement.steps = steps;\n",
              "\n",
              "  return _uploadFilesContinue(outputId);\n",
              "}\n",
              "\n",
              "// This is roughly an async generator (not supported in the browser yet),\n",
              "// where there are multiple asynchronous steps and the Python side is going\n",
              "// to poll for completion of each step.\n",
              "// This uses a Promise to block the python side on completion of each step,\n",
              "// then passes the result of the previous step as the input to the next step.\n",
              "function _uploadFilesContinue(outputId) {\n",
              "  const outputElement = document.getElementById(outputId);\n",
              "  const steps = outputElement.steps;\n",
              "\n",
              "  const next = steps.next(outputElement.lastPromiseValue);\n",
              "  return Promise.resolve(next.value.promise).then((value) => {\n",
              "    // Cache the last promise value to make it available to the next\n",
              "    // step of the generator.\n",
              "    outputElement.lastPromiseValue = value;\n",
              "    return next.value.response;\n",
              "  });\n",
              "}\n",
              "\n",
              "/**\n",
              " * Generator function which is called between each async step of the upload\n",
              " * process.\n",
              " * @param {string} inputId Element ID of the input file picker element.\n",
              " * @param {string} outputId Element ID of the output display.\n",
              " * @return {!Iterable<!Object>} Iterable of next steps.\n",
              " */\n",
              "function* uploadFilesStep(inputId, outputId) {\n",
              "  const inputElement = document.getElementById(inputId);\n",
              "  inputElement.disabled = false;\n",
              "\n",
              "  const outputElement = document.getElementById(outputId);\n",
              "  outputElement.innerHTML = '';\n",
              "\n",
              "  const pickedPromise = new Promise((resolve) => {\n",
              "    inputElement.addEventListener('change', (e) => {\n",
              "      resolve(e.target.files);\n",
              "    });\n",
              "  });\n",
              "\n",
              "  const cancel = document.createElement('button');\n",
              "  inputElement.parentElement.appendChild(cancel);\n",
              "  cancel.textContent = 'Cancel upload';\n",
              "  const cancelPromise = new Promise((resolve) => {\n",
              "    cancel.onclick = () => {\n",
              "      resolve(null);\n",
              "    };\n",
              "  });\n",
              "\n",
              "  // Wait for the user to pick the files.\n",
              "  const files = yield {\n",
              "    promise: Promise.race([pickedPromise, cancelPromise]),\n",
              "    response: {\n",
              "      action: 'starting',\n",
              "    }\n",
              "  };\n",
              "\n",
              "  cancel.remove();\n",
              "\n",
              "  // Disable the input element since further picks are not allowed.\n",
              "  inputElement.disabled = true;\n",
              "\n",
              "  if (!files) {\n",
              "    return {\n",
              "      response: {\n",
              "        action: 'complete',\n",
              "      }\n",
              "    };\n",
              "  }\n",
              "\n",
              "  for (const file of files) {\n",
              "    const li = document.createElement('li');\n",
              "    li.append(span(file.name, {fontWeight: 'bold'}));\n",
              "    li.append(span(\n",
              "        `(${file.type || 'n/a'}) - ${file.size} bytes, ` +\n",
              "        `last modified: ${\n",
              "            file.lastModifiedDate ? file.lastModifiedDate.toLocaleDateString() :\n",
              "                                    'n/a'} - `));\n",
              "    const percent = span('0% done');\n",
              "    li.appendChild(percent);\n",
              "\n",
              "    outputElement.appendChild(li);\n",
              "\n",
              "    const fileDataPromise = new Promise((resolve) => {\n",
              "      const reader = new FileReader();\n",
              "      reader.onload = (e) => {\n",
              "        resolve(e.target.result);\n",
              "      };\n",
              "      reader.readAsArrayBuffer(file);\n",
              "    });\n",
              "    // Wait for the data to be ready.\n",
              "    let fileData = yield {\n",
              "      promise: fileDataPromise,\n",
              "      response: {\n",
              "        action: 'continue',\n",
              "      }\n",
              "    };\n",
              "\n",
              "    // Use a chunked sending to avoid message size limits. See b/62115660.\n",
              "    let position = 0;\n",
              "    do {\n",
              "      const length = Math.min(fileData.byteLength - position, MAX_PAYLOAD_SIZE);\n",
              "      const chunk = new Uint8Array(fileData, position, length);\n",
              "      position += length;\n",
              "\n",
              "      const base64 = btoa(String.fromCharCode.apply(null, chunk));\n",
              "      yield {\n",
              "        response: {\n",
              "          action: 'append',\n",
              "          file: file.name,\n",
              "          data: base64,\n",
              "        },\n",
              "      };\n",
              "\n",
              "      let percentDone = fileData.byteLength === 0 ?\n",
              "          100 :\n",
              "          Math.round((position / fileData.byteLength) * 100);\n",
              "      percent.textContent = `${percentDone}% done`;\n",
              "\n",
              "    } while (position < fileData.byteLength);\n",
              "  }\n",
              "\n",
              "  // All done.\n",
              "  yield {\n",
              "    response: {\n",
              "      action: 'complete',\n",
              "    }\n",
              "  };\n",
              "}\n",
              "\n",
              "scope.google = scope.google || {};\n",
              "scope.google.colab = scope.google.colab || {};\n",
              "scope.google.colab._files = {\n",
              "  _uploadFiles,\n",
              "  _uploadFilesContinue,\n",
              "};\n",
              "})(self);\n",
              "</script> "
            ]
          },
          "metadata": {}
        },
        {
          "output_type": "stream",
          "name": "stdout",
          "text": [
            "Saving Sales.csv to Sales.csv\n"
          ]
        }
      ],
      "source": [
        "from google.colab import files\n",
        "uploaded = files.upload()\n",
        "\n"
      ]
    },
    {
      "cell_type": "code",
      "source": [
        "import pandas as pd\n",
        "import numpy as np\n",
        "import matplotlib.pyplot as plt\n",
        "import seaborn as sns"
      ],
      "metadata": {
        "id": "FAgye13TF5Qr"
      },
      "execution_count": null,
      "outputs": []
    },
    {
      "cell_type": "code",
      "source": [
        "import os\n",
        "print(os.path.getsize('Sales.csv'))\n",
        "#If the file is 5 KB, the function might return 5120 (since 1 KB = 1024 bytes).\n",
        "\n",
        "\n",
        "#STEPS NEEDED TO BE PERFORM OV ER THE DATA(DATA PREPROCESSING)\n",
        "\n",
        "# Load the dataset -D\n",
        "# Handle missing values -D(replaced with median)\n",
        "# Convert data types (e.g., dates, numbers)-D\n",
        "# Remove duplicates -D\n",
        "# Fix inconsistent formatting -D\n",
        "# Handle outliers -D\n",
        "# ✔ Data Normalization/Scaling – Standardize numeric values (e.g., Min-Max Scaling) for better comparisons.-D\n",
        "# ✔ Encoding Categorical Data – Convert text categories into numbers (e.g., One-Hot Encoding for \"Payment Type\").-D\n",
        "# Grouping & Aggregation – Summarize data (e.g., total sales per store, monthly revenue).-D\n",
        "# Save the cleaned data -DONE\n"
      ],
      "metadata": {
        "colab": {
          "base_uri": "https://localhost:8080/"
        },
        "id": "7UdlzxzGGDUT",
        "outputId": "c56fb096-3e03-4094-b691-c4dc8face92e"
      },
      "execution_count": null,
      "outputs": [
        {
          "output_type": "stream",
          "name": "stdout",
          "text": [
            "326295\n"
          ]
        }
      ]
    },
    {
      "cell_type": "code",
      "source": [
        "df = pd.read_csv('Sales.csv')\n",
        "\n",
        "print(df.head())"
      ],
      "metadata": {
        "id": "axKtu9NHI_Q9",
        "colab": {
          "base_uri": "https://localhost:8080/"
        },
        "outputId": "ca8b03bb-f365-428f-f86b-03b73a6a2a70"
      },
      "execution_count": null,
      "outputs": [
        {
          "output_type": "stream",
          "name": "stdout",
          "text": [
            "         Date  Party Name Transaction Type  Total Amount Payment Type  \\\n",
            "0  01/02/2024  9311383344             Sale         720.0        SWIPE   \n",
            "1  01/02/2024   Cash Sale             Sale        1075.0         Cash   \n",
            "2  01/02/2024  9947793289             Sale         155.0         Cash   \n",
            "3  01/02/2024   Cash Sale             Sale         100.0         Cash   \n",
            "4  01/02/2024   Cash Sale             Sale         290.0         Cash   \n",
            "\n",
            "   Received Amount  Balance Amount  \n",
            "0            720.0             0.0  \n",
            "1           1075.0             0.0  \n",
            "2            155.0             0.0  \n",
            "3            100.0             0.0  \n",
            "4            290.0             0.0  \n"
          ]
        }
      ]
    },
    {
      "cell_type": "code",
      "source": [
        "print(df.isnull().sum())\n",
        "\n",
        "# EXAMPLE------------------------------------------------------------------------------------------------------------------------------------------------\n",
        "# import pandas as pd\n",
        "# import numpy as np\n",
        "\n",
        "# data = {\"Name\": [\"Alice\", \"Bob\", None],  # 'None' is a null value\n",
        "#         \"Age\": [25, np.nan, 30]}  # 'NaN' is a null value\n",
        "\n",
        "# df = pd.DataFrame(data)\n",
        "# print(df)\n",
        "\n",
        "# here None and np.nan are null values"
      ],
      "metadata": {
        "colab": {
          "base_uri": "https://localhost:8080/"
        },
        "id": "jtn_HM65omom",
        "outputId": "2cf8a303-6247-4fe1-f9fe-9e8bc45357c8"
      },
      "execution_count": null,
      "outputs": [
        {
          "output_type": "stream",
          "name": "stdout",
          "text": [
            "Date                0\n",
            "Party Name          0\n",
            "Transaction Type    0\n",
            "Total Amount        3\n",
            "Payment Type        0\n",
            "Received Amount     3\n",
            "Balance Amount      3\n",
            "dtype: int64\n"
          ]
        }
      ]
    },
    {
      "cell_type": "code",
      "source": [
        "df.fillna({\"Total Amount\": df[\"Total Amount\"].median(),\n",
        "           \"Received Amount\": df[\"Received Amount\"].median(),\n",
        "           \"Balance Amount\": df[\"Balance Amount\"].median()}, inplace=True)\n",
        "\n",
        "print(\"Null values replaced with median successfully!\")\n"
      ],
      "metadata": {
        "colab": {
          "base_uri": "https://localhost:8080/"
        },
        "id": "zWfHVBFTemnu",
        "outputId": "f163b071-3b95-462c-cd10-6f8ed09bdf6f"
      },
      "execution_count": null,
      "outputs": [
        {
          "output_type": "stream",
          "name": "stdout",
          "text": [
            "Null values replaced with median successfully!\n"
          ]
        }
      ]
    },
    {
      "cell_type": "code",
      "source": [
        "print(df.describe())\n",
        "# ✔ Quick Data Summary → Get key stats like mean, min, max, and std dev.\n",
        "# ✔ Detect Missing or Incorrect Data → Check for unexpected low counts or extreme values.\n",
        "# ✔ Find Outliers → Identify unusual min/max values that may need attention.\n",
        "# ✔ Better Decision-Making → Use insights for pricing, stock, and sales strategies.\n",
        "\n",
        "# Example:\n",
        "# If max sale = $10,000 but average = $500, there might be an outlier (a rare big sale)."
      ],
      "metadata": {
        "colab": {
          "base_uri": "https://localhost:8080/"
        },
        "id": "g2TtDvWBosFj",
        "outputId": "dad80581-1f4d-4e60-dfb2-b55757368a0e"
      },
      "execution_count": null,
      "outputs": [
        {
          "output_type": "stream",
          "name": "stdout",
          "text": [
            "       Total Amount  Received Amount  Balance Amount\n",
            "count   6100.000000      6100.000000     6100.000000\n",
            "mean     536.584761       499.814966       36.754254\n",
            "std     2111.713304      1951.950211      745.977112\n",
            "min        0.000000         0.000000        0.000000\n",
            "25%       89.000000        65.000000        0.000000\n",
            "50%      216.000000       198.000000        0.000000\n",
            "75%      483.250000       460.500000        0.000000\n",
            "max    88000.000000     88000.000000    55140.000000\n"
          ]
        }
      ]
    },
    {
      "cell_type": "code",
      "source": [
        "#CONVERT DATATYPESSSSSSSSSSSSSSSS\n",
        "\n",
        "import pandas as pd\n",
        "\n",
        "# Assuming your CSV file is named 'Sales - Sheet1.csv'\n",
        "df = pd.read_csv('Sales.csv')  # Load the DataFrame\n",
        "\n",
        "# Convert data types\n",
        "for col in [\"Total Amount\", \"Received Amount\", \"Balance Amount\"]:\n",
        "    df[col] = pd.to_numeric(df[col], errors='coerce')\n",
        "\n",
        "print(df.dtypes)  # Display updated data types"
      ],
      "metadata": {
        "colab": {
          "base_uri": "https://localhost:8080/"
        },
        "id": "9U3aTRo5nXH7",
        "outputId": "1d95a2ce-a820-46c4-ef6b-e3a929174495"
      },
      "execution_count": null,
      "outputs": [
        {
          "output_type": "stream",
          "name": "stdout",
          "text": [
            "Date                 object\n",
            "Party Name           object\n",
            "Transaction Type     object\n",
            "Total Amount        float64\n",
            "Payment Type         object\n",
            "Received Amount     float64\n",
            "Balance Amount      float64\n",
            "dtype: object\n"
          ]
        }
      ]
    },
    {
      "cell_type": "code",
      "source": [
        "print(df.isnull().sum())  # Check if any new missing values appeared\n"
      ],
      "metadata": {
        "colab": {
          "base_uri": "https://localhost:8080/"
        },
        "id": "Q5KCblMLpAGn",
        "outputId": "c18f8807-132b-4bb6-9ce1-affcd180c96b"
      },
      "execution_count": null,
      "outputs": [
        {
          "output_type": "stream",
          "name": "stdout",
          "text": [
            "Date                0\n",
            "Party Name          0\n",
            "Transaction Type    0\n",
            "Total Amount        3\n",
            "Payment Type        0\n",
            "Received Amount     3\n",
            "Balance Amount      3\n",
            "dtype: int64\n"
          ]
        }
      ]
    },
    {
      "cell_type": "code",
      "source": [
        "df = df.copy()  # Ensure we are working on a direct copy of the DataFrame\n",
        "\n",
        "df[\"Total Amount\"] = df[\"Total Amount\"].fillna(df[\"Total Amount\"].median())\n",
        "df[\"Received Amount\"] = df[\"Received Amount\"].fillna(df[\"Received Amount\"].median())\n",
        "df[\"Balance Amount\"] = df[\"Balance Amount\"].fillna(df[\"Balance Amount\"].median())\n"
      ],
      "metadata": {
        "id": "0CO8dyakpOBU"
      },
      "execution_count": null,
      "outputs": []
    },
    {
      "cell_type": "code",
      "source": [
        "print(df.isnull().sum())  # Should show all zeros if missing values are fixed\n"
      ],
      "metadata": {
        "colab": {
          "base_uri": "https://localhost:8080/"
        },
        "id": "Yot6pBeJpSdd",
        "outputId": "f8cc2b80-504e-4740-d17b-3b372851958b"
      },
      "execution_count": null,
      "outputs": [
        {
          "output_type": "stream",
          "name": "stdout",
          "text": [
            "Date                0\n",
            "Party Name          0\n",
            "Transaction Type    0\n",
            "Total Amount        0\n",
            "Payment Type        0\n",
            "Received Amount     0\n",
            "Balance Amount      0\n",
            "dtype: int64\n"
          ]
        }
      ]
    },
    {
      "cell_type": "code",
      "source": [
        "#REMOVE DDDDDDDDDDDDUPLICATESSSSSSSSSSS\n",
        "\n",
        "# Remove duplicate rows\n",
        "df.drop_duplicates(inplace=True)\n",
        "\n",
        "print(f\"Duplicates removed. Total remaining rows: {len(df)}\")\n"
      ],
      "metadata": {
        "colab": {
          "base_uri": "https://localhost:8080/"
        },
        "id": "2_tt_CsXqJrU",
        "outputId": "3cb9331a-11f2-4ffe-d029-b2b16d3896f5"
      },
      "execution_count": null,
      "outputs": [
        {
          "output_type": "stream",
          "name": "stdout",
          "text": [
            "Duplicates removed. Total remaining rows: 5741\n"
          ]
        }
      ]
    },
    {
      "cell_type": "code",
      "source": [
        "#5️⃣ Standardize Text Formatting\n",
        "\n",
        "# Convert text columns to lowercase and strip spaces\n",
        "text_cols = [\"Party Name\", \"Transaction Type\", \"Payment Type\"]\n",
        "df[text_cols] = df[text_cols].apply(lambda x: x.str.lower().str.strip())\n",
        "\n",
        "print(df[text_cols].head())\n"
      ],
      "metadata": {
        "colab": {
          "base_uri": "https://localhost:8080/"
        },
        "id": "dkDkwb2sq5Vf",
        "outputId": "ca32179e-6d5e-4c50-be8e-87b41ad3e602"
      },
      "execution_count": null,
      "outputs": [
        {
          "output_type": "stream",
          "name": "stdout",
          "text": [
            "   Party Name Transaction Type Payment Type\n",
            "0  9311383344             sale        swipe\n",
            "1   cash sale             sale         cash\n",
            "2  9947793289             sale         cash\n",
            "3   cash sale             sale         cash\n",
            "4   cash sale             sale         cash\n"
          ]
        }
      ]
    },
    {
      "cell_type": "code",
      "source": [
        "# 7️⃣ Data Normalization\n",
        "\n",
        "from sklearn.preprocessing import MinMaxScaler\n",
        "\n",
        "# Scale numeric columns\n",
        "scaler = MinMaxScaler()\n",
        "df[[\"Total Amount\", \"Received Amount\", \"Balance Amount\"]] = scaler.fit_transform(\n",
        "    df[[\"Total Amount\", \"Received Amount\", \"Balance Amount\"]]\n",
        ")\n",
        "\n",
        "print(df[[\"Total Amount\", \"Received Amount\", \"Balance Amount\"]].head())\n"
      ],
      "metadata": {
        "colab": {
          "base_uri": "https://localhost:8080/"
        },
        "id": "6XwHRl-jrzbo",
        "outputId": "2aab5346-b18f-4dd6-8382-2e63d02db5fb"
      },
      "execution_count": null,
      "outputs": [
        {
          "output_type": "stream",
          "name": "stdout",
          "text": [
            "   Total Amount  Received Amount  Balance Amount\n",
            "0      0.008182         0.008182             0.0\n",
            "1      0.012216         0.012216             0.0\n",
            "2      0.001761         0.001761             0.0\n",
            "3      0.001136         0.001136             0.0\n",
            "4      0.003295         0.003295             0.0\n"
          ]
        }
      ]
    },
    {
      "cell_type": "code",
      "source": [
        "#8️⃣ Encode Categorical Data\n",
        "\n",
        "from sklearn.preprocessing import LabelEncoder\n",
        "\n",
        "# Encode categorical column (convert text to numbers)\n",
        "encoder = LabelEncoder()\n",
        "df[\"Payment Type Encoded\"] = encoder.fit_transform(df[\"Payment Type\"])\n",
        "\n",
        "print(df[[\"Payment Type\", \"Payment Type Encoded\"]].head())\n"
      ],
      "metadata": {
        "colab": {
          "base_uri": "https://localhost:8080/"
        },
        "id": "cADsiUtXtg2U",
        "outputId": "bb2808a5-84b9-4d5b-934f-605c49b6e34a"
      },
      "execution_count": null,
      "outputs": [
        {
          "output_type": "stream",
          "name": "stdout",
          "text": [
            "  Payment Type  Payment Type Encoded\n",
            "0        swipe                     4\n",
            "1         cash                     0\n",
            "2         cash                     0\n",
            "3         cash                     0\n",
            "4         cash                     0\n"
          ]
        }
      ]
    },
    {
      "cell_type": "code",
      "source": [
        "print(df.columns)\n"
      ],
      "metadata": {
        "colab": {
          "base_uri": "https://localhost:8080/"
        },
        "id": "Czp9GQmZviSt",
        "outputId": "89ddad2d-046b-4084-de7f-9a20a59698e7"
      },
      "execution_count": null,
      "outputs": [
        {
          "output_type": "stream",
          "name": "stdout",
          "text": [
            "Index(['Date', 'Party Name', 'Transaction Type', 'Total Amount',\n",
            "       'Payment Type', 'Received Amount', 'Balance Amount',\n",
            "       'Payment Type Encoded'],\n",
            "      dtype='object')\n"
          ]
        }
      ]
    },
    {
      "cell_type": "code",
      "source": [
        "# Use \"Total Amount\" as \"Total Revenue\" since \"Quantity Sold\" is missing\n",
        "df[\"Total Revenue\"] = df[\"Total Amount\"]\n",
        "\n",
        "# Display the first few rows\n",
        "print(df[[\"Total Amount\", \"Total Revenue\"]].head())\n"
      ],
      "metadata": {
        "colab": {
          "base_uri": "https://localhost:8080/"
        },
        "id": "AEtO7jQqxUJH",
        "outputId": "562d7090-fc24-47d5-e26d-83d5fa75d51f"
      },
      "execution_count": null,
      "outputs": [
        {
          "output_type": "stream",
          "name": "stdout",
          "text": [
            "   Total Amount  Total Revenue\n",
            "0      0.008182       0.008182\n",
            "1      0.012216       0.012216\n",
            "2      0.001761       0.001761\n",
            "3      0.001136       0.001136\n",
            "4      0.003295       0.003295\n"
          ]
        }
      ]
    },
    {
      "cell_type": "code",
      "source": [
        "df[[\"Total Amount\", \"Received Amount\", \"Balance Amount\"]] = scaler.inverse_transform(\n",
        "    df[[\"Total Amount\", \"Received Amount\", \"Balance Amount\"]]\n",
        ")\n",
        "\n",
        "\n",
        "# ---------------------------------------------------------------------------------------------------------------------------------------\n",
        "# This should be the actual output after grouping\n",
        "\n",
        "#    Transaction Type  Total Revenue\n",
        "# 0       credit note        987.00\n",
        "# 1              sale    3,271,532.04\n",
        "# 2  sale [cancelled]          0.00\n"
      ],
      "metadata": {
        "id": "6JYrSrCN2P1O"
      },
      "execution_count": null,
      "outputs": []
    },
    {
      "cell_type": "code",
      "source": [
        "import pandas as pd\n",
        "\n",
        "# Load dataset\n",
        "df = pd.read_csv(\"Sales.csv\")\n",
        "\n",
        "# Convert 'Date' to datetime\n",
        "df[\"Date\"] = pd.to_datetime(df[\"Date\"], dayfirst=True)\n",
        "\n",
        "# Extract Month-Year\n",
        "df[\"Month\"] = df[\"Date\"].dt.to_period(\"M\")\n",
        "\n",
        "# Group by Party Name (Store) and sum Total Amount\n",
        "store_sales = df.groupby(\"Party Name\")[\"Total Amount\"].sum().reset_index()\n",
        "\n",
        "# Group by Month and sum Total Amount\n",
        "monthly_revenue = df.groupby(\"Month\")[\"Total Amount\"].sum().reset_index()\n",
        "\n",
        "# Format revenue for readability\n",
        "store_sales[\"Total Amount\"] = store_sales[\"Total Amount\"].apply(lambda x: f'{x:,.2f}')\n",
        "monthly_revenue[\"Total Amount\"] = monthly_revenue[\"Total Amount\"].apply(lambda x: f'{x:,.2f}')\n",
        "\n",
        "# Print results\n",
        "print(\"\\nTotal Sales per Store:\")\n",
        "print(store_sales)\n",
        "\n",
        "print(\"\\nMonthly Revenue:\")\n",
        "print(monthly_revenue)\n"
      ],
      "metadata": {
        "colab": {
          "base_uri": "https://localhost:8080/"
        },
        "id": "4Y1YT_uWlcV_",
        "outputId": "7939951d-91d4-41a4-bb2f-02be0a2ab4b8"
      },
      "execution_count": null,
      "outputs": [
        {
          "output_type": "stream",
          "name": "stdout",
          "text": [
            "\n",
            "Total Sales per Store:\n",
            "      Party Name Total Amount\n",
            "0          00299       355.00\n",
            "1     0769288848       130.00\n",
            "2     6006147471     1,005.00\n",
            "3     6260601637       608.00\n",
            "4     6264263832       210.00\n",
            "...          ...          ...\n",
            "1371      sheenu     9,647.00\n",
            "1372      swiggy    34,318.00\n",
            "1373     vastram     2,846.00\n",
            "1374       vicky     2,855.00\n",
            "1375       wstrm       610.00\n",
            "\n",
            "[1376 rows x 2 columns]\n",
            "\n",
            "Monthly Revenue:\n",
            "      Month Total Amount\n",
            "0   2024-02   283,013.50\n",
            "1   2024-03   254,349.50\n",
            "2   2024-04   173,459.00\n",
            "3   2024-05   249,006.00\n",
            "4   2024-06   176,677.00\n",
            "5   2024-07   192,734.39\n",
            "6   2024-08   256,887.60\n",
            "7   2024-09   151,180.00\n",
            "8   2024-10   771,534.05\n",
            "9   2024-11   240,555.00\n",
            "10  2024-12   218,709.00\n",
            "11  2025-01   236,927.00\n",
            "12  2025-02    67,487.00\n"
          ]
        }
      ]
    },
    {
      "cell_type": "code",
      "source": [
        "#START FROM HERE --------------------------------------------->>>>>>>>>>>>>>\n",
        "\n",
        "\n",
        "import pandas as pd\n",
        "\n",
        "# Sample Data (Replace with your actual DataFrame)\n",
        "data = {\n",
        "    \"Total Amount\": [536.74, 88000, 216, 484, 89, 1000, 55000, 700, 150],  # Example values\n",
        "    \"Received Amount\": [499.96, 88000, 198, 462, 65, 900, 60000, 650, 120],\n",
        "    \"Balance Amount\": [36.77, 55140, 0, 0, 0, 5000, 45000, 0, 10]\n",
        "}\n",
        "\n",
        "df = pd.DataFrame(data)\n",
        "\n",
        "# Function to detect outliers using IQR\n",
        "def detect_outliers_iqr(column):\n",
        "    Q1 = df[column].quantile(0.25)\n",
        "    Q3 = df[column].quantile(0.75)\n",
        "    IQR = Q3 - Q1\n",
        "\n",
        "    lower_bound = Q1 - 1.5 * IQR\n",
        "    upper_bound = Q3 + 1.5 * IQR\n",
        "\n",
        "    outliers = df[(df[column] < lower_bound) | (df[column] > upper_bound)]\n",
        "\n",
        "    return outliers\n",
        "\n",
        "# Detect outliers in each column\n",
        "for col in df.columns:\n",
        "    print(f\"Outliers in {col}:\\n\", detect_outliers_iqr(col), \"\\n\")\n"
      ],
      "metadata": {
        "colab": {
          "base_uri": "https://localhost:8080/"
        },
        "id": "t3GzNBBWDg--",
        "outputId": "b5f69193-7cbd-4a59-97bd-d6370c316bb2"
      },
      "execution_count": null,
      "outputs": [
        {
          "output_type": "stream",
          "name": "stdout",
          "text": [
            "Outliers in Total Amount:\n",
            "    Total Amount  Received Amount  Balance Amount\n",
            "1       88000.0          88000.0         55140.0\n",
            "6       55000.0          60000.0         45000.0 \n",
            "\n",
            "Outliers in Received Amount:\n",
            "    Total Amount  Received Amount  Balance Amount\n",
            "1       88000.0          88000.0         55140.0\n",
            "6       55000.0          60000.0         45000.0 \n",
            "\n",
            "Outliers in Balance Amount:\n",
            "    Total Amount  Received Amount  Balance Amount\n",
            "1       88000.0          88000.0         55140.0\n",
            "6       55000.0          60000.0         45000.0 \n",
            "\n"
          ]
        }
      ]
    },
    {
      "cell_type": "code",
      "source": [
        "import matplotlib.pyplot as plt\n",
        "import seaborn as sns\n",
        "\n",
        "# Set plot style\n",
        "plt.figure(figsize=(10,5))\n",
        "sns.boxplot(data=df, palette=\"Set2\")\n",
        "plt.title(\"Boxplot of Total Amount, Received Amount, and Balance Amount\")\n",
        "plt.show()\n"
      ],
      "metadata": {
        "id": "-CSp768CDstU",
        "outputId": "f55564d6-4bf2-4bb1-9c5e-12461ef2a1bf",
        "colab": {
          "base_uri": "https://localhost:8080/",
          "height": 468
        }
      },
      "execution_count": null,
      "outputs": [
        {
          "output_type": "display_data",
          "data": {
            "text/plain": [
              "<Figure size 1000x500 with 1 Axes>"
            ],
            "image/png": "[encoded data removed]"
          },
          "metadata": {}
        }
      ]
    },
    {
      "cell_type": "code",
      "source": [
        "print(df.info())"
      ],
      "metadata": {
        "colab": {
          "base_uri": "https://localhost:8080/"
        },
        "id": "SHBV5EGIouX8",
        "outputId": "2e6e4288-7121-4bd7-d7c3-963348062231"
      },
      "execution_count": null,
      "outputs": [
        {
          "output_type": "stream",
          "name": "stdout",
          "text": [
            "<class 'pandas.core.frame.DataFrame'>\n",
            "RangeIndex: 9 entries, 0 to 8\n",
            "Data columns (total 3 columns):\n",
            " #   Column           Non-Null Count  Dtype  \n",
            "---  ------           --------------  -----  \n",
            " 0   Total Amount     9 non-null      float64\n",
            " 1   Received Amount  9 non-null      float64\n",
            " 2   Balance Amount   9 non-null      float64\n",
            "dtypes: float64(3)\n",
            "memory usage: 348.0 bytes\n",
            "None\n"
          ]
        }
      ]
    },
    {
      "cell_type": "code",
      "source": [
        "import pandas as pd\n",
        "import warnings\n",
        "\n",
        "# Sample Data (Replace with your actual DataFrame)\n",
        "data = {\n",
        "    \"Total Amount\": [536.74, 88000, 216, 484, 89, 1000, 55000, 700, 150],  # Example values\n",
        "    \"Received Amount\": [499.96, 88000, 198, 462, 65, 900, 60000, 650, 120],\n",
        "    \"Balance Amount\": [36.77, 55140, 0, 0, 0, 5000, 45000, 0, 10]\n",
        "}\n",
        "\n",
        "df = pd.DataFrame(data)\n",
        "\n",
        "# 1. Fill missing values in existing numerical columns with 0\n",
        "for column in [\"Total Amount\", \"Received Amount\", \"Balance Amount\"]:\n",
        "    df[column].fillna(0, inplace=True)\n",
        "\n",
        "# 2. Add new columns with default values if they are missing\n",
        "if \"Date of Sale\" not in df.columns:\n",
        "    df[\"Date of Sale\"] = pd.to_datetime(\"today\") # Set to today's date or any other appropriate default\n",
        "if \"Products Sold\" not in df.columns:\n",
        "    df[\"Products Sold\"] = \"Unknown\"  # Or any other appropriate default value\n",
        "\n",
        "# 3. (Optional) If other columns need filling, specify them here\n",
        "# df.fillna({\"Customer ID\": \"Unknown\", \"Payment Method\": \"Not Specified\"}, inplace=True)\n",
        "\n",
        "# Display the updated DataFrame\n",
        "print(df)"
      ],
      "metadata": {
        "id": "25tWx9bP_Kgd",
        "colab": {
          "base_uri": "https://localhost:8080/"
        },
        "outputId": "55b095cd-3544-4707-d8d0-d09a67120b22"
      },
      "execution_count": null,
      "outputs": [
        {
          "output_type": "stream",
          "name": "stdout",
          "text": [
            "   Total Amount  Received Amount  Balance Amount               Date of Sale  \\\n",
            "0        536.74           499.96           36.77 2025-03-26 06:48:11.590394   \n",
            "1      88000.00         88000.00        55140.00 2025-03-26 06:48:11.590394   \n",
            "2        216.00           198.00            0.00 2025-03-26 06:48:11.590394   \n",
            "3        484.00           462.00            0.00 2025-03-26 06:48:11.590394   \n",
            "4         89.00            65.00            0.00 2025-03-26 06:48:11.590394   \n",
            "5       1000.00           900.00         5000.00 2025-03-26 06:48:11.590394   \n",
            "6      55000.00         60000.00        45000.00 2025-03-26 06:48:11.590394   \n",
            "7        700.00           650.00            0.00 2025-03-26 06:48:11.590394   \n",
            "8        150.00           120.00           10.00 2025-03-26 06:48:11.590394   \n",
            "\n",
            "  Products Sold  \n",
            "0       Unknown  \n",
            "1       Unknown  \n",
            "2       Unknown  \n",
            "3       Unknown  \n",
            "4       Unknown  \n",
            "5       Unknown  \n",
            "6       Unknown  \n",
            "7       Unknown  \n",
            "8       Unknown  \n"
          ]
        },
        {
          "output_type": "stream",
          "name": "stderr",
          "text": [
            "<ipython-input-28-301da857e962>:15: FutureWarning: A value is trying to be set on a copy of a DataFrame or Series through chained assignment using an inplace method.\n",
            "The behavior will change in pandas 3.0. This inplace method will never work because the intermediate object on which we are setting values always behaves as a copy.\n",
            "\n",
            "For example, when doing 'df[col].method(value, inplace=True)', try using 'df.method({col: value}, inplace=True)' or df[col] = df[col].method(value) instead, to perform the operation inplace on the original object.\n",
            "\n",
            "\n",
            "  df[column].fillna(0, inplace=True)\n"
          ]
        }
      ]
    },
    {
      "cell_type": "code",
      "source": [
        "import pandas as pd\n",
        "\n",
        "# Load your dataset\n",
        "file_path = \"Sales.csv\"\n",
        "df = pd.read_csv(file_path)\n",
        "\n",
        "# Ensure column names are properly formatted\n",
        "df.columns = df.columns.str.strip().str.lower()\n",
        "\n",
        "# Select only numeric columns for outlier removal\n",
        "num_cols = df.select_dtypes(include=['number']).columns\n",
        "\n",
        "# Compute Q1 (25th percentile) and Q3 (75th percentile)\n",
        "Q1 = df[num_cols].quantile(0.25)\n",
        "Q3 = df[num_cols].quantile(0.75)\n",
        "IQR = Q3 - Q1\n",
        "\n",
        "# Define outlier bounds\n",
        "lower_bound = Q1 - 1.5 * IQR\n",
        "upper_bound = Q3 + 1.5 * IQR\n",
        "\n",
        "# Filter out rows with outliers\n",
        "df_cleaned = df[~((df[num_cols] < lower_bound) | (df[num_cols] > upper_bound)).any(axis=1)]\n",
        "\n",
        "# Print results\n",
        "print(f\"Original dataset size: {df.shape[0]} rows\")\n",
        "print(f\"Cleaned dataset size: {df_cleaned.shape[0]} rows\")\n",
        "print(f\"Total outliers removed: {df.shape[0] - df_cleaned.shape[0]} rows\")\n"
      ],
      "metadata": {
        "id": "i2hqKjWCmMZY",
        "colab": {
          "base_uri": "https://localhost:8080/"
        },
        "outputId": "e77aa214-b6c8-47d8-9b7d-1af62c0cee44"
      },
      "execution_count": null,
      "outputs": [
        {
          "output_type": "stream",
          "name": "stdout",
          "text": [
            "Original dataset size: 6100 rows\n",
            "Cleaned dataset size: 5249 rows\n",
            "Total outliers removed: 851 rows\n"
          ]
        }
      ]
    },
    {
      "cell_type": "code",
      "source": [
        "# Save the cleaned dataset to a new CSV file\n",
        "cleaned_file_path = \"Sales.csv\"\n",
        "df.to_csv(cleaned_file_path, index=False)\n",
        "\n",
        "# Print confirmation\n",
        "print(f\"✅ Cleaned data saved successfully as: {cleaned_file_path}\")\n"
      ],
      "metadata": {
        "colab": {
          "base_uri": "https://localhost:8080/"
        },
        "id": "t_t0JH1AyXkp",
        "outputId": "d30a83c8-ec8b-4909-e957-c227f35219a8"
      },
      "execution_count": null,
      "outputs": [
        {
          "output_type": "stream",
          "name": "stdout",
          "text": [
            "✅ Cleaned data saved successfully as: Sales.csv\n"
          ]
        }
      ]
    },
    {
      "cell_type": "code",
      "source": [
        "#DATA VISUALIZATION\n",
        "#1️⃣ Boxplot Showing the Distribution of Total Amount (To Check for Outliers)"
      ],
      "metadata": {
        "id": "14o822pSynbY"
      },
      "execution_count": null,
      "outputs": []
    },
    {
      "cell_type": "code",
      "source": [
        "import pandas as pd\n",
        "import matplotlib.pyplot as plt\n",
        "import seaborn as sns\n",
        "\n",
        "# Load the cleaned dataset\n",
        "file_path = \"Sales - Sheet1.csv\"  # Update this if needed\n",
        "df = pd.read_csv(file_path)\n",
        "\n",
        "# Set the style for plots\n",
        "sns.set_style(\"whitegrid\")\n",
        "\n",
        "# Convert column names to lowercase to ensure consistency\n",
        "df.columns = df.columns.str.strip().str.lower()\n",
        "\n",
        "# Create a Boxplot, using the lowercase column name if necessary\n",
        "plt.figure(figsize=(8, 5))\n",
        "sns.boxplot(x=df[\"total amount\"])  # Access using lowercase column name\n",
        "plt.title(\"Distribution of Total Amount (Sales)\")\n",
        "plt.xlabel(\"Total Amount\")\n",
        "plt.show()"
      ],
      "metadata": {
        "colab": {
          "base_uri": "https://localhost:8080/",
          "height": 487
        },
        "id": "fq7fIIe-0t7D",
        "outputId": "e34fc0ad-2a08-4dd1-d14e-1967aecf069a"
      },
      "execution_count": null,
      "outputs": [
        {
          "output_type": "display_data",
          "data": {
            "text/plain": [
              "<Figure size 800x500 with 1 Axes>"
            ],
            "image/png": "[encoded data removed]"
          },
          "metadata": {}
        }
      ]
    },
    {
      "cell_type": "code",
      "source": [
        "#2️⃣ Line Chart Showing Monthly Revenue Trend Over Time"
      ],
      "metadata": {
        "id": "c8qTUMA62gfi"
      },
      "execution_count": null,
      "outputs": []
    },
    {
      "cell_type": "code",
      "source": [
        "# Convert 'Date' column to datetime format\n",
        "if \"Date\" in df.columns:\n",
        "    df[\"Date\"] = pd.to_datetime(df[\"Date\"])\n",
        "    df[\"Month\"] = df[\"Date\"].dt.to_period(\"M\").astype(str)  # Extract Month-Year\n",
        "\n",
        "# Group by Month to calculate total revenue\n",
        "if \"Month\" in df.columns:\n",
        "    monthly_sales = df.groupby(\"Month\")[\"Total Amount\"].sum().reset_index()\n",
        "\n",
        "    # Plot the line chart\n",
        "    plt.figure(figsize=(10, 5))\n",
        "    sns.lineplot(x=\"Month\", y=\"Total Amount\", data=monthly_sales, marker=\"o\", color=\"b\")\n",
        "    plt.xticks(rotation=45)\n",
        "    plt.title(\"Monthly Revenue Trend\")\n",
        "    plt.xlabel(\"Month\")\n",
        "    plt.ylabel(\"Total Revenue\")\n",
        "    plt.show()\n"
      ],
      "metadata": {
        "id": "_Q2zH9d13TaX"
      },
      "execution_count": null,
      "outputs": []
    },
    {
      "cell_type": "code",
      "source": [
        "#3️⃣ Bar Chart Showing the Top 10 Stores by Total Sales"
      ],
      "metadata": {
        "id": "X2ARNZ-CejrU"
      },
      "execution_count": null,
      "outputs": []
    },
    {
      "cell_type": "code",
      "source": [
        "# Group by 'Party Name' to get total sales per store\n",
        "if \"Party Name\" in df.columns:\n",
        "    store_sales = df.groupby(\"Party Name\")[\"Total Amount\"].sum().reset_index()\n",
        "    store_sales = store_sales.sort_values(by=\"Total Amount\", ascending=False).head(10)  # Top 10 stores\n",
        "\n",
        "    # Plot the bar chart\n",
        "    plt.figure(figsize=(10, 5))\n",
        "    sns.barplot(x=\"Total Amount\", y=\"Party Name\", data=store_sales, palette=\"viridis\")\n",
        "    plt.title(\"Top 10 Stores by Sales\")\n",
        "    plt.xlabel(\"Total Sales\")\n",
        "    plt.ylabel(\"Store Name\")\n",
        "    plt.show()\n"
      ],
      "metadata": {
        "colab": {
          "base_uri": "https://localhost:8080/",
          "height": 509
        },
        "id": "czz1pU0Rek65",
        "outputId": "0364c1ba-3efa-47aa-f6ea-2dbd2020bd03"
      },
      "execution_count": null,
      "outputs": [
        {
          "output_type": "stream",
          "name": "stderr",
          "text": [
            "<ipython-input-9-8ba5ba24e335>:8: FutureWarning: \n",
            "\n",
            "Passing `palette` without assigning `hue` is deprecated and will be removed in v0.14.0. Assign the `y` variable to `hue` and set `legend=False` for the same effect.\n",
            "\n",
            "  sns.barplot(x=\"Total Amount\", y=\"Party Name\", data=store_sales, palette=\"viridis\")\n"
          ]
        },
        {
          "output_type": "display_data",
          "data": {
            "text/plain": [
              "<Figure size 1000x500 with 1 Axes>"
            ],
            "image/png": "[encoded data removed]"
          },
          "metadata": {}
        }
      ]
    },
    {
      "cell_type": "code",
      "source": [
        "import pandas as pd\n",
        "import matplotlib.pyplot as plt\n",
        "\n",
        "# Ensure inline display in Google Colab\n",
        "%matplotlib inline\n",
        "\n",
        "# Load the dataset\n",
        "file_path = \"Sales - Sheet1.csv\"  # Use correct file path\n",
        "df = pd.read_csv(file_path)\n",
        "\n",
        "# 🔹 Standardize column names (convert to lowercase, remove spaces)\n",
        "df.columns = df.columns.str.strip().str.lower()\n",
        "\n",
        "# 🔹 Check if 'payment type' column exists\n",
        "if \"payment type\" in df.columns:\n",
        "    # Count occurrences of each payment type\n",
        "    payment_counts = df[\"payment type\"].value_counts()\n",
        "\n",
        "    # Create a figure with an increased size\n",
        "    plt.figure(figsize=(8, 8))\n",
        "\n",
        "    # Plot the pie chart with better label formatting\n",
        "    wedges, texts, autotexts = plt.pie(\n",
        "        payment_counts,\n",
        "        labels=payment_counts.index,\n",
        "        autopct=\"%1.1f%%\",\n",
        "        startangle=90,\n",
        "        colors=plt.cm.Pastel1.colors,\n",
        "        wedgeprops={\"edgecolor\": \"black\", \"linewidth\": 1},  # Add border\n",
        "        pctdistance=0.85,  # Move percentage labels inside\n",
        "        labeldistance=1.05  # Move labels outward to avoid overlap\n",
        "    )\n",
        "\n",
        "    # Adjust font size for better readability\n",
        "    for text in texts:\n",
        "        text.set_fontsize(12)  # Adjust label size\n",
        "    for autotext in autotexts:\n",
        "        autotext.set_fontsize(10)  # Adjust percentage size\n",
        "        autotext.set_color(\"black\")  # Make percentage labels visible\n",
        "\n",
        "    # Set title\n",
        "    plt.title(\"Payment Type Distribution\", fontsize=14, fontweight=\"bold\")\n",
        "\n",
        "    # Make layout tight to prevent overlap\n",
        "    plt.tight_layout()\n",
        "\n",
        "    # Show the pie chart\n",
        "    plt.show()\n"
      ],
      "metadata": {
        "colab": {
          "base_uri": "https://localhost:8080/",
          "height": 807
        },
        "id": "YvFynm23erKq",
        "outputId": "7ad3b498-3b54-4615-fa0d-c1c2327f4953"
      },
      "execution_count": null,
      "outputs": [
        {
          "output_type": "display_data",
          "data": {
            "text/plain": [
              "<Figure size 800x800 with 1 Axes>"
            ],
            "image/png": "[encoded data removed]"
          },
          "metadata": {}
        }
      ]
    },
    {
      "cell_type": "code",
      "source": [
        "print(\"Column names:\", df.columns)"
      ],
      "metadata": {
        "colab": {
          "base_uri": "https://localhost:8080/"
        },
        "id": "uo2VqU2-hMFA",
        "outputId": "ae1e5951-e8f5-417f-990c-5038bf98ed70"
      },
      "execution_count": null,
      "outputs": [
        {
          "output_type": "stream",
          "name": "stdout",
          "text": [
            "Column names: Index(['date', 'party name', 'transaction type', 'total amount',\n",
            "       'payment type', 'received amount', 'balance amount'],\n",
            "      dtype='object')\n"
          ]
        }
      ]
    },
    {
      "cell_type": "code",
      "source": [
        "\n",
        "\n",
        "df.rename(columns={'YourDateColumnName': 'Date'}, inplace=True)"
      ],
      "metadata": {
        "id": "tG-EYEHmg92-"
      },
      "execution_count": null,
      "outputs": []
    },
    {
      "cell_type": "code",
      "source": [
        "import pandas as pd\n",
        "import matplotlib.pyplot as plt\n",
        "import seaborn as sns\n",
        "\n",
        "# Ensure inline display in Google Colab\n",
        "%matplotlib inline\n",
        "\n",
        "# Load the dataset\n",
        "file_path = \"Sales.csv\"  # Use the correct path\n",
        "df = pd.read_csv(file_path)\n",
        "\n",
        "# 🔹 Convert 'Date' column to datetime format if it exists\n",
        "if \"Date\" in df.columns:\n",
        "    df[\"Date\"] = pd.to_datetime(df[\"Date\"], errors=\"coerce\")\n",
        "\n",
        "# 🔹 Standardize column names (convert to lowercase, remove spaces)\n",
        "df.columns = df.columns.str.strip().str.lower()\n",
        "\n",
        "# 🔹 Check if 'total amount' exists in the dataset\n",
        "if \"total amount\" in df.columns and \"date\" in df.columns:\n",
        "    # Group by 'Date' and sum total sales\n",
        "    daily_sales = df.groupby(\"date\")[\"total amount\"].sum().reset_index()\n",
        "\n",
        "    # Create figure and plot sales over time\n",
        "    plt.figure(figsize=(20, 10))\n",
        "    sns.lineplot(x=\"date\", y=\"total amount\", data=daily_sales, marker=\"o\", color=\"b\")\n",
        "\n",
        "    # Formatting\n",
        "    plt.title(\"Sales Over Time\", fontsize=14, fontweight=\"bold\")\n",
        "    plt.xlabel(\"Date\", fontsize=12)\n",
        "    plt.ylabel(\"Total Sales\", fontsize=12)\n",
        "    plt.xticks(rotation=45)  # Rotate x-axis labels for readability\n",
        "    plt.grid(True, linestyle=\"--\", alpha=0.5)  # Add light grid lines\n",
        "\n",
        "    # Force display\n",
        "    plt.show()\n"
      ],
      "metadata": {
        "colab": {
          "base_uri": "https://localhost:8080/",
          "height": 373
        },
        "id": "zDEUGdf6fCGc",
        "outputId": "8e000da7-e542-4b76-d4e3-507b63b2617e"
      },
      "execution_count": null,
      "outputs": [
        {
          "output_type": "error",
          "ename": "FileNotFoundError",
          "evalue": "[Errno 2] No such file or directory: 'Sales.csv'",
          "traceback": [
            "\u001b[0;31m---------------------------------------------------------------------------\u001b[0m",
            "\u001b[0;31mFileNotFoundError\u001b[0m                         Traceback (most recent call last)",
            "\u001b[0;32m<ipython-input-2-b562ec9cb59a>\u001b[0m in \u001b[0;36m<cell line: 0>\u001b[0;34m()\u001b[0m\n\u001b[1;32m      8\u001b[0m \u001b[0;31m# Load the dataset\u001b[0m\u001b[0;34m\u001b[0m\u001b[0;34m\u001b[0m\u001b[0m\n\u001b[1;32m      9\u001b[0m \u001b[0mfile_path\u001b[0m \u001b[0;34m=\u001b[0m \u001b[0;34m\"Sales.csv\"\u001b[0m  \u001b[0;31m# Use the correct path\u001b[0m\u001b[0;34m\u001b[0m\u001b[0;34m\u001b[0m\u001b[0m\n\u001b[0;32m---> 10\u001b[0;31m \u001b[0mdf\u001b[0m \u001b[0;34m=\u001b[0m \u001b[0mpd\u001b[0m\u001b[0;34m.\u001b[0m\u001b[0mread_csv\u001b[0m\u001b[0;34m(\u001b[0m\u001b[0mfile_path\u001b[0m\u001b[0;34m)\u001b[0m\u001b[0;34m\u001b[0m\u001b[0;34m\u001b[0m\u001b[0m\n\u001b[0m\u001b[1;32m     11\u001b[0m \u001b[0;34m\u001b[0m\u001b[0m\n\u001b[1;32m     12\u001b[0m \u001b[0;31m# 🔹 Convert 'Date' column to datetime format if it exists\u001b[0m\u001b[0;34m\u001b[0m\u001b[0;34m\u001b[0m\u001b[0m\n",
            "\u001b[0;32m/usr/local/lib/python3.11/dist-packages/pandas/io/parsers/readers.py\u001b[0m in \u001b[0;36mread_csv\u001b[0;34m(filepath_or_buffer, sep, delimiter, header, names, index_col, usecols, dtype, engine, converters, true_values, false_values, skipinitialspace, skiprows, skipfooter, nrows, na_values, keep_default_na, na_filter, verbose, skip_blank_lines, parse_dates, infer_datetime_format, keep_date_col, date_parser, date_format, dayfirst, cache_dates, iterator, chunksize, compression, thousands, decimal, lineterminator, quotechar, quoting, doublequote, escapechar, comment, encoding, encoding_errors, dialect, on_bad_lines, delim_whitespace, low_memory, memory_map, float_precision, storage_options, dtype_backend)\u001b[0m\n\u001b[1;32m   1024\u001b[0m     \u001b[0mkwds\u001b[0m\u001b[0;34m.\u001b[0m\u001b[0mupdate\u001b[0m\u001b[0;34m(\u001b[0m\u001b[0mkwds_defaults\u001b[0m\u001b[0;34m)\u001b[0m\u001b[0;34m\u001b[0m\u001b[0;34m\u001b[0m\u001b[0m\n\u001b[1;32m   1025\u001b[0m \u001b[0;34m\u001b[0m\u001b[0m\n\u001b[0;32m-> 1026\u001b[0;31m     \u001b[0;32mreturn\u001b[0m \u001b[0m_read\u001b[0m\u001b[0;34m(\u001b[0m\u001b[0mfilepath_or_buffer\u001b[0m\u001b[0;34m,\u001b[0m \u001b[0mkwds\u001b[0m\u001b[0;34m)\u001b[0m\u001b[0;34m\u001b[0m\u001b[0;34m\u001b[0m\u001b[0m\n\u001b[0m\u001b[1;32m   1027\u001b[0m \u001b[0;34m\u001b[0m\u001b[0m\n\u001b[1;32m   1028\u001b[0m \u001b[0;34m\u001b[0m\u001b[0m\n",
            "\u001b[0;32m/usr/local/lib/python3.11/dist-packages/pandas/io/parsers/readers.py\u001b[0m in \u001b[0;36m_read\u001b[0;34m(filepath_or_buffer, kwds)\u001b[0m\n\u001b[1;32m    618\u001b[0m \u001b[0;34m\u001b[0m\u001b[0m\n\u001b[1;32m    619\u001b[0m     \u001b[0;31m# Create the parser.\u001b[0m\u001b[0;34m\u001b[0m\u001b[0;34m\u001b[0m\u001b[0m\n\u001b[0;32m--> 620\u001b[0;31m     \u001b[0mparser\u001b[0m \u001b[0;34m=\u001b[0m \u001b[0mTextFileReader\u001b[0m\u001b[0;34m(\u001b[0m\u001b[0mfilepath_or_buffer\u001b[0m\u001b[0;34m,\u001b[0m \u001b[0;34m**\u001b[0m\u001b[0mkwds\u001b[0m\u001b[0;34m)\u001b[0m\u001b[0;34m\u001b[0m\u001b[0;34m\u001b[0m\u001b[0m\n\u001b[0m\u001b[1;32m    621\u001b[0m \u001b[0;34m\u001b[0m\u001b[0m\n\u001b[1;32m    622\u001b[0m     \u001b[0;32mif\u001b[0m \u001b[0mchunksize\u001b[0m \u001b[0;32mor\u001b[0m \u001b[0miterator\u001b[0m\u001b[0;34m:\u001b[0m\u001b[0;34m\u001b[0m\u001b[0;34m\u001b[0m\u001b[0m\n",
            "\u001b[0;32m/usr/local/lib/python3.11/dist-packages/pandas/io/parsers/readers.py\u001b[0m in \u001b[0;36m__init__\u001b[0;34m(self, f, engine, **kwds)\u001b[0m\n\u001b[1;32m   1618\u001b[0m \u001b[0;34m\u001b[0m\u001b[0m\n\u001b[1;32m   1619\u001b[0m         \u001b[0mself\u001b[0m\u001b[0;34m.\u001b[0m\u001b[0mhandles\u001b[0m\u001b[0;34m:\u001b[0m \u001b[0mIOHandles\u001b[0m \u001b[0;34m|\u001b[0m \u001b[0;32mNone\u001b[0m \u001b[0;34m=\u001b[0m \u001b[0;32mNone\u001b[0m\u001b[0;34m\u001b[0m\u001b[0;34m\u001b[0m\u001b[0m\n\u001b[0;32m-> 1620\u001b[0;31m         \u001b[0mself\u001b[0m\u001b[0;34m.\u001b[0m\u001b[0m_engine\u001b[0m \u001b[0;34m=\u001b[0m \u001b[0mself\u001b[0m\u001b[0;34m.\u001b[0m\u001b[0m_make_engine\u001b[0m\u001b[0;34m(\u001b[0m\u001b[0mf\u001b[0m\u001b[0;34m,\u001b[0m \u001b[0mself\u001b[0m\u001b[0;34m.\u001b[0m\u001b[0mengine\u001b[0m\u001b[0;34m)\u001b[0m\u001b[0;34m\u001b[0m\u001b[0;34m\u001b[0m\u001b[0m\n\u001b[0m\u001b[1;32m   1621\u001b[0m \u001b[0;34m\u001b[0m\u001b[0m\n\u001b[1;32m   1622\u001b[0m     \u001b[0;32mdef\u001b[0m \u001b[0mclose\u001b[0m\u001b[0;34m(\u001b[0m\u001b[0mself\u001b[0m\u001b[0;34m)\u001b[0m \u001b[0;34m->\u001b[0m \u001b[0;32mNone\u001b[0m\u001b[0;34m:\u001b[0m\u001b[0;34m\u001b[0m\u001b[0;34m\u001b[0m\u001b[0m\n",
            "\u001b[0;32m/usr/local/lib/python3.11/dist-packages/pandas/io/parsers/readers.py\u001b[0m in \u001b[0;36m_make_engine\u001b[0;34m(self, f, engine)\u001b[0m\n\u001b[1;32m   1878\u001b[0m                 \u001b[0;32mif\u001b[0m \u001b[0;34m\"b\"\u001b[0m \u001b[0;32mnot\u001b[0m \u001b[0;32min\u001b[0m \u001b[0mmode\u001b[0m\u001b[0;34m:\u001b[0m\u001b[0;34m\u001b[0m\u001b[0;34m\u001b[0m\u001b[0m\n\u001b[1;32m   1879\u001b[0m                     \u001b[0mmode\u001b[0m \u001b[0;34m+=\u001b[0m \u001b[0;34m\"b\"\u001b[0m\u001b[0;34m\u001b[0m\u001b[0;34m\u001b[0m\u001b[0m\n\u001b[0;32m-> 1880\u001b[0;31m             self.handles = get_handle(\n\u001b[0m\u001b[1;32m   1881\u001b[0m                 \u001b[0mf\u001b[0m\u001b[0;34m,\u001b[0m\u001b[0;34m\u001b[0m\u001b[0;34m\u001b[0m\u001b[0m\n\u001b[1;32m   1882\u001b[0m                 \u001b[0mmode\u001b[0m\u001b[0;34m,\u001b[0m\u001b[0;34m\u001b[0m\u001b[0;34m\u001b[0m\u001b[0m\n",
            "\u001b[0;32m/usr/local/lib/python3.11/dist-packages/pandas/io/common.py\u001b[0m in \u001b[0;36mget_handle\u001b[0;34m(path_or_buf, mode, encoding, compression, memory_map, is_text, errors, storage_options)\u001b[0m\n\u001b[1;32m    871\u001b[0m         \u001b[0;32mif\u001b[0m \u001b[0mioargs\u001b[0m\u001b[0;34m.\u001b[0m\u001b[0mencoding\u001b[0m \u001b[0;32mand\u001b[0m \u001b[0;34m\"b\"\u001b[0m \u001b[0;32mnot\u001b[0m \u001b[0;32min\u001b[0m \u001b[0mioargs\u001b[0m\u001b[0;34m.\u001b[0m\u001b[0mmode\u001b[0m\u001b[0;34m:\u001b[0m\u001b[0;34m\u001b[0m\u001b[0;34m\u001b[0m\u001b[0m\n\u001b[1;32m    872\u001b[0m             \u001b[0;31m# Encoding\u001b[0m\u001b[0;34m\u001b[0m\u001b[0;34m\u001b[0m\u001b[0m\n\u001b[0;32m--> 873\u001b[0;31m             handle = open(\n\u001b[0m\u001b[1;32m    874\u001b[0m                 \u001b[0mhandle\u001b[0m\u001b[0;34m,\u001b[0m\u001b[0;34m\u001b[0m\u001b[0;34m\u001b[0m\u001b[0m\n\u001b[1;32m    875\u001b[0m                 \u001b[0mioargs\u001b[0m\u001b[0;34m.\u001b[0m\u001b[0mmode\u001b[0m\u001b[0;34m,\u001b[0m\u001b[0;34m\u001b[0m\u001b[0;34m\u001b[0m\u001b[0m\n",
            "\u001b[0;31mFileNotFoundError\u001b[0m: [Errno 2] No such file or directory: 'Sales.csv'"
          ]
        }
      ]
    },
    {
      "cell_type": "code",
      "source": [
        "# Top 5 parties contributing to sales\n",
        "top_parties = df.groupby('party name')['total amount'].sum().sort_values(ascending=False).head(5)  # Changed column names to lowercase\n",
        "print(\"Top 5 Parties:\\n\", top_parties)\n",
        "\n",
        "# Plot the top 5 parties\n",
        "plt.figure(figsize=(15, 7))\n",
        "top_parties.plot(kind='bar', title='Top 5 Parties Contributing to Sales')\n",
        "plt.xlabel('Party Name')\n",
        "plt.ylabel('Total Sales')\n",
        "plt.show()"
      ],
      "metadata": {
        "colab": {
          "base_uri": "https://localhost:8080/",
          "height": 851
        },
        "id": "meMatfh5izp9",
        "outputId": "d9d1380a-71ee-4dda-daaa-e8059784d6c3"
      },
      "execution_count": null,
      "outputs": [
        {
          "output_type": "stream",
          "name": "stdout",
          "text": [
            "Top 5 Parties:\n",
            " party name\n",
            "Cash Sale       1098502.39\n",
            "Zomato           116755.00\n",
            "Farsan mix        88573.00\n",
            "Rajiv Bhasin      74840.00\n",
            "Papa              72211.50\n",
            "Name: total amount, dtype: float64\n"
          ]
        },
        {
          "output_type": "display_data",
          "data": {
            "text/plain": [
              "<Figure size 1500x700 with 1 Axes>"
            ],
            "image/png": "[encoded data removed]"
          },
          "metadata": {}
        }
      ]
    },
    {
      "cell_type": "code",
      "source": [
        "# Aggregate small categories and explode specific slices\n",
        "transaction_counts = df['transaction type'].value_counts()\n",
        "\n",
        "# Explode the overlapping slices (e.g., 'Credit Note' and 'Sales Canceled')\n",
        "explode = [0.1 if label in ['Credit Note', 'Sales Canceled'] else 0 for label in transaction_counts.index]\n",
        "\n",
        "# Create a pie chart with better readability\n",
        "plt.figure(figsize=(15, 8))\n",
        "transaction_counts.plot(\n",
        "    kind='pie',\n",
        "    autopct='%1.1f%%',\n",
        "    explode=explode,  # Separate specific slices\n",
        "    startangle=90,    # Rotate for better alignment\n",
        "    title='Transaction Type Distribution'\n",
        ")\n",
        "plt.ylabel('')  # Remove y-axis label\n",
        "plt.tight_layout()\n",
        "plt.show()\n"
      ],
      "metadata": {
        "colab": {
          "base_uri": "https://localhost:8080/",
          "height": 807
        },
        "id": "kgYWm87Cmp5k",
        "outputId": "08a40ba4-1909-46b1-8158-9380c6758d10"
      },
      "execution_count": null,
      "outputs": [
        {
          "output_type": "display_data",
          "data": {
            "text/plain": [
              "<Figure size 1500x800 with 1 Axes>"
            ],
            "image/png": "[encoded data removed]"
          },
          "metadata": {}
        }
      ]
    }
  ]
}